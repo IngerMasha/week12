{
  "nbformat": 4,
  "nbformat_minor": 0,
  "metadata": {
    "colab": {
      "provenance": [],
      "authorship_tag": "ABX9TyO4A6vWnUv3NBYJCvVVNlCM",
      "include_colab_link": true
    },
    "kernelspec": {
      "name": "python3",
      "display_name": "Python 3"
    },
    "language_info": {
      "name": "python"
    }
  },
  "cells": [
    {
      "cell_type": "markdown",
      "metadata": {
        "id": "view-in-github",
        "colab_type": "text"
      },
      "source": [
        "<a href=\"https://colab.research.google.com/github/IngerMasha/week12/blob/main/SciPy_and_Statistics_Exercises_XP.ipynb\" target=\"_parent\"><img src=\"https://colab.research.google.com/assets/colab-badge.svg\" alt=\"Open In Colab\"/></a>"
      ]
    },
    {
      "cell_type": "markdown",
      "source": [
        "🌟 Exercise 1: Linear Regression Analysis"
      ],
      "metadata": {
        "id": "NsYIXPXu0Cs5"
      }
    },
    {
      "cell_type": "code",
      "execution_count": 6,
      "metadata": {
        "colab": {
          "base_uri": "https://localhost:8080/"
        },
        "id": "8Yuo0IKdwz5E",
        "outputId": "8a8b3a24-d6c3-4046-ec95-ab210a053690"
      },
      "outputs": [
        {
          "output_type": "stream",
          "name": "stdout",
          "text": [
            "1828.7671232876708 \n",
            " 64383.56164383565\n"
          ]
        }
      ],
      "source": [
        "import numpy as np\n",
        "from sklearn.linear_model import LinearRegression\n",
        "\n",
        "house_sizes = np.array([50, 70, 80, 100, 120]).reshape(-1, 1)\n",
        "house_prices = np.array([150000, 200000, 210000, 250000, 280000])\n",
        "\n",
        "model = LinearRegression()\n",
        "model.fit(house_sizes, house_prices)\n",
        "\n",
        "m = model.coef_[0]  # наклон\n",
        "b = model.intercept_  # пересечение\n",
        "\n",
        "print(m,'\\n',b)\n"
      ]
    },
    {
      "cell_type": "code",
      "source": [
        "price = m*90+b\n",
        "print(price)"
      ],
      "metadata": {
        "colab": {
          "base_uri": "https://localhost:8080/"
        },
        "id": "LCGKWUcHyrKC",
        "outputId": "95c25627-800b-4b8d-c50e-119ad3826c5e"
      },
      "execution_count": 5,
      "outputs": [
        {
          "output_type": "stream",
          "name": "stdout",
          "text": [
            "228972.60273972602\n"
          ]
        }
      ]
    },
    {
      "cell_type": "markdown",
      "source": [
        "The slope shows how the price of a house changes as its square footage changes. In this case, every additional 10 square meters adds 1828.8 units to the value of the house."
      ],
      "metadata": {
        "id": "onoq8EmZzBlJ"
      }
    },
    {
      "cell_type": "markdown",
      "source": [
        "🌟 Exercise 2: Understanding ANOVA"
      ],
      "metadata": {
        "id": "VxrkWgQQz-RE"
      }
    },
    {
      "cell_type": "code",
      "source": [
        "from scipy.stats import f_oneway\n",
        "\n",
        "fertilizer_1 = [5, 6, 7, 6, 5]\n",
        "fertilizer_2 = [7, 8, 7, 9, 8]\n",
        "fertilizer_3 = [4, 5, 4, 3, 4]\n",
        "\n",
        "f_stat, p_value = f_oneway(fertilizer_1, fertilizer_2, fertilizer_3)\n",
        "print(\"F-statistic:\", f_stat)\n",
        "print(\"p-value:\", p_value)"
      ],
      "metadata": {
        "colab": {
          "base_uri": "https://localhost:8080/"
        },
        "id": "TiWampH7zDWv",
        "outputId": "ac8e24e8-8816-400c-e53e-033828387923"
      },
      "execution_count": 8,
      "outputs": [
        {
          "output_type": "stream",
          "name": "stdout",
          "text": [
            "F-statistic: 28.52631578947368\n",
            "p-value: 2.7542672098048448e-05\n"
          ]
        }
      ]
    },
    {
      "cell_type": "markdown",
      "source": [
        "Interpretation of results:\n",
        "The F-value shows how much the means differ between groups. The higher the F-value, the more likely it is that the differences are significant.\n",
        "The P-value shows the probability that the observed differences between groups are due to chance. If the P-value is less than 0.05, the differences between groups are considered significant."
      ],
      "metadata": {
        "id": "gMr25d51zbNe"
      }
    },
    {
      "cell_type": "markdown",
      "source": [
        "In our case, P-value = 2.8, which is greater than 0.05, meaning there is no significant difference in plant growth when using different fertilizers."
      ],
      "metadata": {
        "id": "oKZwuHKKz4Kv"
      }
    },
    {
      "cell_type": "markdown",
      "source": [
        "🌟 Exercise 3: Probability Distributions"
      ],
      "metadata": {
        "id": "SQPM46470Gkq"
      }
    },
    {
      "cell_type": "code",
      "source": [
        "from scipy.stats import binom\n",
        "\n",
        "n = 10\n",
        "p = 0.5\n",
        "k = 5\n",
        "prob = binom.pmf(k, n, p)\n",
        "print(prob)\n"
      ],
      "metadata": {
        "colab": {
          "base_uri": "https://localhost:8080/"
        },
        "id": "fTPqYxGaz8QB",
        "outputId": "3db9ca91-84f2-4e8d-f779-9f08f9c39861"
      },
      "execution_count": 9,
      "outputs": [
        {
          "output_type": "stream",
          "name": "stdout",
          "text": [
            "0.24609375000000003\n"
          ]
        }
      ]
    },
    {
      "cell_type": "markdown",
      "source": [
        "The probability of getting exactly 5 heads in 10 coin tosses = 0.246 or 24.6%."
      ],
      "metadata": {
        "id": "N-6PJpIR0Szl"
      }
    },
    {
      "cell_type": "markdown",
      "source": [
        "🌟 Exercise 4: Correlation Coefficients"
      ],
      "metadata": {
        "id": "lTFXoxkj0Tfe"
      }
    },
    {
      "cell_type": "code",
      "source": [
        "import pandas as pd\n",
        "\n",
        "data = pd.DataFrame({\n",
        "    'age': [23, 25, 30, 35, 40],\n",
        "    'income': [35000, 40000, 50000, 60000, 70000]\n",
        "})\n",
        "\n",
        "pearson_corr = data['age'].corr(data['income'], method='pearson')\n",
        "print('Pearson correlation:', pearson_corr)\n",
        "\n",
        "spearman_corr = data['age'].corr(data['income'], method='spearman')\n",
        "print('Spearman correlation:', spearman_corr)\n"
      ],
      "metadata": {
        "colab": {
          "base_uri": "https://localhost:8080/"
        },
        "id": "yfcBhxd60V0F",
        "outputId": "59121429-9068-4bd8-b562-b6562102f000"
      },
      "execution_count": 11,
      "outputs": [
        {
          "output_type": "stream",
          "name": "stdout",
          "text": [
            "Pearson correlation: 0.9996907452347203\n",
            "Spearman correlation: 0.9999999999999999\n"
          ]
        }
      ]
    },
    {
      "cell_type": "markdown",
      "source": [
        "🌟 Exercise 5: Linear Relationships"
      ],
      "metadata": {
        "id": "6bCXf6lW017M"
      }
    },
    {
      "cell_type": "code",
      "source": [
        "import matplotlib.pyplot as plt\n",
        "\n",
        "plt.scatter(data['age'], data['income'])\n",
        "plt.title('Scatter Plot of Age vs Income')\n",
        "plt.xlabel('Age')\n",
        "plt.ylabel('Income')\n",
        "plt.show()\n"
      ],
      "metadata": {
        "colab": {
          "base_uri": "https://localhost:8080/",
          "height": 472
        },
        "id": "hL2kcBE902rJ",
        "outputId": "f2a92461-87ff-4cf4-8734-6c62536c1378"
      },
      "execution_count": 12,
      "outputs": [
        {
          "output_type": "display_data",
          "data": {
            "text/plain": [
              "<Figure size 640x480 with 1 Axes>"
            ],
            "image/png": "[encoded data removed]"
          },
          "metadata": {}
        }
      ]
    },
    {
      "cell_type": "markdown",
      "source": [
        "The scatterplot shows that there is a positive linear relationship between age and income: as age increases, income also increases."
      ],
      "metadata": {
        "id": "vjiHWC8k09Rg"
      }
    }
  ]
}